{
 "cells": [
  {
   "cell_type": "markdown",
   "metadata": {},
   "source": [
    "# DEA CCR/CRS"
   ]
  },
  {
   "cell_type": "code",
   "execution_count": 1,
   "metadata": {},
   "outputs": [],
   "source": [
    "import pandas as pd\n",
    "import pyomo.environ as pyo"
   ]
  },
  {
   "cell_type": "markdown",
   "metadata": {},
   "source": [
    "![tabela](tabela.png)"
   ]
  },
  {
   "cell_type": "markdown",
   "metadata": {},
   "source": [
    "## Estruturação Matemática (Orientado a INPUTS):\n",
    "\n",
    "    Max EffA: 85u1 + 120u2\n",
    "\n",
    "    s.a:\n",
    "    40v1 + 25v2\n",
    "    85u1 + 120u2 - 40v1 - 25v2 <=0\n",
    "    90u1 + 135u2 - 40v1 - 28v2 <=0\n",
    "    92u1 + 160u2 - 40v1 - 30v2 <=0\n",
    "\n",
    "    u1,u2,v1,v2 >=0"
   ]
  },
  {
   "cell_type": "markdown",
   "metadata": {},
   "source": [
    "### Transferindo para o pyomo"
   ]
  },
  {
   "cell_type": "code",
   "execution_count": 2,
   "metadata": {},
   "outputs": [],
   "source": [
    "modelo = pyo.ConcreteModel()"
   ]
  },
  {
   "cell_type": "code",
   "execution_count": 3,
   "metadata": {},
   "outputs": [],
   "source": [
    "objetivo = [85,120,0,0]"
   ]
  },
  {
   "cell_type": "code",
   "execution_count": 4,
   "metadata": {},
   "outputs": [],
   "source": [
    "restri = [[40,25,0,0],\n",
    "          [85,120,-40,-25],\n",
    "          [90,135,-40,-28],\n",
    "          [92,160,-40,-30]]"
   ]
  },
  {
   "cell_type": "code",
   "execution_count": 5,
   "metadata": {},
   "outputs": [],
   "source": [
    "ld = [1,0,0,0]"
   ]
  },
  {
   "cell_type": "code",
   "execution_count": 6,
   "metadata": {},
   "outputs": [],
   "source": [
    "modelo.m = range(len(restri))\n",
    "modelo.n = range(len(restri[0][:]))"
   ]
  },
  {
   "cell_type": "code",
   "execution_count": 7,
   "metadata": {
    "tags": []
   },
   "outputs": [
    {
     "data": {
      "text/plain": [
       "range(0, 4)"
      ]
     },
     "execution_count": 7,
     "metadata": {},
     "output_type": "execute_result"
    }
   ],
   "source": [
    "modelo.n"
   ]
  },
  {
   "cell_type": "code",
   "execution_count": 8,
   "metadata": {
    "tags": []
   },
   "outputs": [],
   "source": [
    "modelo.x = pyo.Var(modelo.n, within=pyo.NonNegativeReals)"
   ]
  },
  {
   "cell_type": "code",
   "execution_count": 9,
   "metadata": {
    "tags": []
   },
   "outputs": [],
   "source": [
    "modelo.objetivo = pyo.Param(modelo.n, initialize=lambda modelo, j: objetivo[j])\n",
    "modelo.restri = pyo.Param(modelo.m, modelo.n, initialize=lambda modelo, i, j: restri[i][j])\n",
    "modelo.ld = pyo.Param(modelo.m, initialize=lambda modelo, i: ld[i])"
   ]
  },
  {
   "cell_type": "code",
   "execution_count": 10,
   "metadata": {
    "tags": []
   },
   "outputs": [],
   "source": [
    "def f_obj(modelo):\n",
    "    return pyo.summation(modelo.objetivo, modelo.x)\n",
    "modelo.z = pyo.Objective(rule=f_obj, sense=pyo.maximize)"
   ]
  },
  {
   "cell_type": "code",
   "execution_count": 11,
   "metadata": {},
   "outputs": [],
   "source": [
    "def f_constr(modelo, i):\n",
    "    return sum(modelo.restri[i,j] * modelo.x[j] for j in modelo.n) <= modelo.ld[i]"
   ]
  },
  {
   "cell_type": "code",
   "execution_count": 12,
   "metadata": {},
   "outputs": [],
   "source": [
    "modelo.restrições = pyo.Constraint(modelo.m, rule=f_constr)"
   ]
  },
  {
   "cell_type": "code",
   "execution_count": 13,
   "metadata": {},
   "outputs": [
    {
     "name": "stdout",
     "output_type": "stream",
     "text": [
      "Model unknown\n",
      "\n",
      "  Variables:\n",
      "    x : Size=4, Index=x_index\n",
      "        Key : Lower : Value : Upper : Fixed : Stale : Domain\n",
      "          0 :     0 :  None :  None : False :  True : NonNegativeReals\n",
      "          1 :     0 :  None :  None : False :  True : NonNegativeReals\n",
      "          2 :     0 :  None :  None : False :  True : NonNegativeReals\n",
      "          3 :     0 :  None :  None : False :  True : NonNegativeReals\n",
      "\n",
      "  Objectives:\n",
      "    z : Size=1, Index=None, Active=True\n",
      "ERROR: evaluating object as numeric value: x[0]\n",
      "        (object: <class 'pyomo.core.base.var._GeneralVarData'>)\n",
      "    No value for uninitialized NumericValue object x[0]\n",
      "ERROR: evaluating object as numeric value: z\n",
      "        (object: <class 'pyomo.core.base.objective.ScalarObjective'>)\n",
      "    No value for uninitialized NumericValue object x[0]\n",
      "        Key : Active : Value\n",
      "        None :   None :  None\n",
      "\n",
      "  Constraints:\n",
      "    restrições : Size=4\n",
      "        Key : Lower : Body : Upper\n",
      "          0 :  None : None :   1.0\n",
      "          1 :  None : None :   0.0\n",
      "          2 :  None : None :   0.0\n",
      "          3 :  None : None :   0.0\n"
     ]
    }
   ],
   "source": [
    "modelo.display()"
   ]
  },
  {
   "cell_type": "code",
   "execution_count": 14,
   "metadata": {},
   "outputs": [],
   "source": [
    "resultado = pyo.SolverFactory('gurobi', solver_io=\"python\").solve(modelo)"
   ]
  },
  {
   "cell_type": "code",
   "execution_count": 15,
   "metadata": {},
   "outputs": [
    {
     "name": "stdout",
     "output_type": "stream",
     "text": [
      "x1 = 0.0\n",
      "x2 = 0.04\n",
      "x3 = 0.16\n",
      "x4 = 0.0\n"
     ]
    }
   ],
   "source": [
    "l = list(modelo.x.keys())\n",
    "for i in l:\n",
    "    print(\"x\" + str(i+1),'=', modelo.x[i]())"
   ]
  },
  {
   "cell_type": "markdown",
   "metadata": {},
   "source": [
    "`Temos então, para que A seja Ótimo, que os pesos sejam:`\n",
    "\n",
    "    u1 = 0.0\n",
    "    u2 = 0.04\n",
    "    v1 = 0.16\n",
    "    v2 = 0.0"
   ]
  },
  {
   "cell_type": "markdown",
   "metadata": {
    "tags": []
   },
   "source": [
    "## Para o DMU-B"
   ]
  },
  {
   "cell_type": "code",
   "execution_count": 16,
   "metadata": {},
   "outputs": [
    {
     "name": "stdout",
     "output_type": "stream",
     "text": [
      "x1 = 0.0\n",
      "x2 = 0.03571428571428571\n",
      "x3 = 0.14285714285714285\n",
      "x4 = 0.0\n"
     ]
    }
   ],
   "source": [
    "modelo2 = pyo.ConcreteModel()\n",
    "\n",
    "objetivo2 = [90,135,0,0]\n",
    "\n",
    "restri2 = [[40,28,0,0],\n",
    "          [85,120,-40,-25],\n",
    "          [90,135,-40,-28],\n",
    "          [92,160,-40,-30]]\n",
    "\n",
    "ld2 = [1,0,0,0]\n",
    "modelo2.m = range(len(restri2))\n",
    "modelo2.n = range(len(restri2[0][:]))\n",
    "\n",
    "modelo2.x = pyo.Var(modelo2.n, within=pyo.NonNegativeReals)\n",
    "\n",
    "modelo2.objetivo2 = pyo.Param(modelo2.n, initialize=lambda modelo2, j: objetivo2[j])\n",
    "modelo2.restri2 = pyo.Param(modelo2.m, modelo2.n, initialize=lambda modelo2, i, j: restri2[i][j])\n",
    "modelo2.ld2 = pyo.Param(modelo2.m, initialize=lambda modelo2, i: ld2[i])\n",
    "\n",
    "def f_obj(modelo2):\n",
    "    return pyo.summation(modelo2.objetivo2, modelo2.x)\n",
    "modelo2.z = pyo.Objective(rule=f_obj, sense=pyo.maximize)\n",
    "\n",
    "def f_constr(modelo2, i):\n",
    "    return sum(modelo2.restri2[i,j] * modelo2.x[j] for j in modelo2.n) <= modelo2.ld2[i]\n",
    "\n",
    "modelo2.restrições2 = pyo.Constraint(modelo2.m, rule=f_constr)\n",
    "\n",
    "resultado = pyo.SolverFactory('gurobi', solver_io=\"python\").solve(modelo2)\n",
    "\n",
    "l = list(modelo2.x.keys())\n",
    "for i in l:\n",
    "    print(\"x\" + str(i+1),'=', modelo2.x[i]())"
   ]
  },
  {
   "cell_type": "markdown",
   "metadata": {},
   "source": [
    "`Temos então, para que B seja Ótimo, que os pesos sejam:`\n",
    "\n",
    "    u1 = 0.0\n",
    "    u2 = 0.03571428571428571\n",
    "    v1 = 0.03571428571428571\n",
    "    v2 = 0.0"
   ]
  },
  {
   "cell_type": "markdown",
   "metadata": {},
   "source": [
    "## Para o DMU-C"
   ]
  },
  {
   "cell_type": "code",
   "execution_count": 18,
   "metadata": {},
   "outputs": [
    {
     "name": "stdout",
     "output_type": "stream",
     "text": [
      "x1 = 0.0\n",
      "x2 = 0.03571428571428571\n",
      "x3 = 0.14285714285714285\n",
      "x4 = 0.0\n"
     ]
    }
   ],
   "source": [
    "modelo3 = pyo.ConcreteModel()\n",
    "\n",
    "objetivo3 = [90,135,0,0]\n",
    "\n",
    "restri3 = [[40,28,0,0],\n",
    "          [85,120,-40,-25],\n",
    "          [90,135,-40,-28],\n",
    "          [92,160,-40,-30]]\n",
    "\n",
    "ld3 = [1,0,0,0]\n",
    "modelo3.m = range(len(restri3))\n",
    "modelo3.n = range(len(restri3[0][:]))\n",
    "\n",
    "modelo3.x = pyo.Var(modelo3.n, within=pyo.NonNegativeReals)\n",
    "\n",
    "modelo3.objetivo3 = pyo.Param(modelo3.n, initialize=lambda modelo3, j: objetivo3[j])\n",
    "modelo3.restri3 = pyo.Param(modelo3.m, modelo3.n, initialize=lambda modelo3, i, j: restri3[i][j])\n",
    "modelo3.ld3 = pyo.Param(modelo3.m, initialize=lambda modelo3, i: ld3[i])\n",
    "\n",
    "def f_obj(modelo3):\n",
    "    return pyo.summation(modelo3.objetivo3, modelo3.x)\n",
    "modelo3.z = pyo.Objective(rule=f_obj, sense=pyo.maximize)\n",
    "\n",
    "def f_constr(modelo3, i):\n",
    "    return sum(modelo3.restri3[i,j] * modelo3.x[j] for j in modelo3.n) <= modelo3.ld3[i]\n",
    "\n",
    "modelo3.restrições3 = pyo.Constraint(modelo3.m, rule=f_constr)\n",
    "\n",
    "resultado = pyo.SolverFactory('gurobi', solver_io=\"python\").solve(modelo3)\n",
    "\n",
    "l = list(modelo3.x.keys())\n",
    "for i in l:\n",
    "    print(\"x\" + str(i+1),'=', modelo3.x[i]())"
   ]
  },
  {
   "cell_type": "markdown",
   "metadata": {},
   "source": [
    "`Temos então, para que B seja Ótimo, que os pesos sejam:`\n",
    "\n",
    "    u1 = 0.0\n",
    "    u2 = 0.03571428571428571\n",
    "    v1 = 0.14285714285714285\n",
    "    v2 = 0.0"
   ]
  },
  {
   "cell_type": "code",
   "execution_count": null,
   "metadata": {},
   "outputs": [],
   "source": []
  }
 ],
 "metadata": {
  "kernelspec": {
   "display_name": "Python 3 (ipykernel)",
   "language": "python",
   "name": "python3"
  },
  "language_info": {
   "codemirror_mode": {
    "name": "ipython",
    "version": 3
   },
   "file_extension": ".py",
   "mimetype": "text/x-python",
   "name": "python",
   "nbconvert_exporter": "python",
   "pygments_lexer": "ipython3",
   "version": "3.11.2"
  },
  "vscode": {
   "interpreter": {
    "hash": "4409256e7e782509fa14ce850cffa13519ad012918c098b4739a1fafeb218c2c"
   }
  }
 },
 "nbformat": 4,
 "nbformat_minor": 4
}
